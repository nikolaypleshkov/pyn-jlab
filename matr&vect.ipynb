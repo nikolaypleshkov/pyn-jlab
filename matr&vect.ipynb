{
 "cells": [
  {
   "cell_type": "code",
   "execution_count": 1,
   "id": "7f45f391",
   "metadata": {},
   "outputs": [],
   "source": [
    "%matplotlib inline\n",
    "import sympy as sym\n",
    "import numpy as np\n",
    "import matplotlib.pyplot as plt\n",
    "import seaborn as sb\n",
    "from scipy import *"
   ]
  },
  {
   "cell_type": "code",
   "execution_count": 3,
   "id": "825321e0",
   "metadata": {},
   "outputs": [],
   "source": [
    "#sympy -> sloving algebra problems\n",
    "#numpy -> sloving linear algebra problems\n",
    "#matplotlib.pyplot -> graph functions"
   ]
  },
  {
   "cell_type": "code",
   "execution_count": 5,
   "id": "3b5d426b",
   "metadata": {},
   "outputs": [
    {
     "name": "stdout",
     "output_type": "stream",
     "text": [
      "0.5\n"
     ]
    }
   ],
   "source": [
    "x = .5\n",
    "print(x)\n"
   ]
  },
  {
   "cell_type": "code",
   "execution_count": 6,
   "id": "3efaea43",
   "metadata": {},
   "outputs": [
    {
     "name": "stdout",
     "output_type": "stream",
     "text": [
      "[1 2 3]\n"
     ]
    }
   ],
   "source": [
    "x_vector = np.array([1,2,3])\n",
    "print(x_vector)"
   ]
  },
  {
   "cell_type": "code",
   "execution_count": 8,
   "id": "57b7c8c9",
   "metadata": {},
   "outputs": [
    {
     "name": "stdout",
     "output_type": "stream",
     "text": [
      "List: [1, 2, 3]\n",
      "Lenght: 3\n"
     ]
    }
   ],
   "source": [
    "c_list = [1,2,3]\n",
    "print(\"List:\",c_list)\n",
    "print(\"Lenght:\",len(c_list))"
   ]
  },
  {
   "cell_type": "code",
   "execution_count": 9,
   "id": "d8c5da32",
   "metadata": {},
   "outputs": [
    {
     "name": "stdout",
     "output_type": "stream",
     "text": [
      "Vector: [1 2 3]\n",
      "Shape: (3,)\n"
     ]
    }
   ],
   "source": [
    "c_vector = np.array(c_list)\n",
    "print(\"Vector:\",c_vector)\n",
    "print(\"Shape:\",c_vector.shape)"
   ]
  },
  {
   "cell_type": "code",
   "execution_count": 10,
   "id": "09eb9a7c",
   "metadata": {},
   "outputs": [
    {
     "name": "stdout",
     "output_type": "stream",
     "text": [
      "<class 'list'>\n"
     ]
    }
   ],
   "source": [
    "z = [1,2]\n",
    "print(type(z))"
   ]
  },
  {
   "cell_type": "code",
   "execution_count": 11,
   "id": "d3cdb714",
   "metadata": {},
   "outputs": [
    {
     "name": "stdout",
     "output_type": "stream",
     "text": [
      "<class 'numpy.ndarray'>\n"
     ]
    }
   ],
   "source": [
    "z_array = np.array(z)\n",
    "print(type(z_array))"
   ]
  },
  {
   "cell_type": "code",
   "execution_count": 12,
   "id": "ce5dbc95",
   "metadata": {},
   "outputs": [
    {
     "name": "stdout",
     "output_type": "stream",
     "text": [
      "[(1, 1), (2, 2)]\n"
     ]
    }
   ],
   "source": [
    "b = list(zip(z,c_vector))\n",
    "print(b)"
   ]
  },
  {
   "cell_type": "code",
   "execution_count": 13,
   "id": "c5f723f5",
   "metadata": {},
   "outputs": [
    {
     "name": "stdout",
     "output_type": "stream",
     "text": [
      "[[1 1]\n",
      " [2 2]]\n"
     ]
    }
   ],
   "source": [
    "A = np.array(b)\n",
    "print(A)"
   ]
  },
  {
   "cell_type": "code",
   "execution_count": 14,
   "id": "dac3f032",
   "metadata": {},
   "outputs": [
    {
     "name": "stdout",
     "output_type": "stream",
     "text": [
      "<class 'numpy.ndarray'>\n"
     ]
    }
   ],
   "source": [
    "print(type(A))"
   ]
  },
  {
   "cell_type": "code",
   "execution_count": 15,
   "id": "8c7f24ee",
   "metadata": {},
   "outputs": [
    {
     "name": "stdout",
     "output_type": "stream",
     "text": [
      "(2, 2)\n"
     ]
    }
   ],
   "source": [
    "print(A.shape)"
   ]
  },
  {
   "cell_type": "code",
   "execution_count": 16,
   "id": "15db004b",
   "metadata": {},
   "outputs": [
    {
     "name": "stdout",
     "output_type": "stream",
     "text": [
      "[[4 4]\n",
      " [5 5]]\n"
     ]
    }
   ],
   "source": [
    "result = A + 3\n",
    "print(result)"
   ]
  },
  {
   "cell_type": "code",
   "execution_count": 17,
   "id": "6fd32468",
   "metadata": {},
   "outputs": [
    {
     "name": "stdout",
     "output_type": "stream",
     "text": [
      "[[ 2.17491835 -0.39215989]\n",
      " [ 1.28229514  0.68027997]]\n"
     ]
    }
   ],
   "source": [
    "B = np.random.randn(2,2)\n",
    "print(B)"
   ]
  },
  {
   "cell_type": "code",
   "execution_count": 18,
   "id": "09ae26a5",
   "metadata": {},
   "outputs": [
    {
     "name": "stdout",
     "output_type": "stream",
     "text": [
      "[[3.17491835 0.60784011]\n",
      " [3.28229514 2.68027997]]\n"
     ]
    }
   ],
   "source": [
    "result = A + B\n",
    "print(result)"
   ]
  },
  {
   "cell_type": "code",
   "execution_count": 19,
   "id": "e059b7b6",
   "metadata": {},
   "outputs": [
    {
     "data": {
      "text/plain": [
       "array([[3, 3],\n",
       "       [6, 6]])"
      ]
     },
     "execution_count": 19,
     "metadata": {},
     "output_type": "execute_result"
    }
   ],
   "source": [
    "A * 3"
   ]
  },
  {
   "cell_type": "code",
   "execution_count": 33,
   "id": "edb3d2ec",
   "metadata": {},
   "outputs": [
    {
     "name": "stdout",
     "output_type": "stream",
     "text": [
      "(3, 2)\n",
      "(2, 2)\n"
     ]
    }
   ],
   "source": [
    "A = np.arange(6).reshape((3,2))\n",
    "B = np.random.randn(2,2)\n",
    "print(A.shape)\n",
    "print(B.shape)"
   ]
  },
  {
   "cell_type": "code",
   "execution_count": 35,
   "id": "812b10a6",
   "metadata": {},
   "outputs": [
    {
     "name": "stdout",
     "output_type": "stream",
     "text": [
      "[[-0.21827161 -0.94735936]\n",
      " [-4.56397694 -2.13933737]\n",
      " [-8.90968226 -3.33131539]]\n",
      "[[-0.21827161 -0.94735936]\n",
      " [-4.56397694 -2.13933737]\n",
      " [-8.90968226 -3.33131539]]\n"
     ]
    }
   ],
   "source": [
    "print(A.dot(B))\n",
    "print(np.dot(A,B))"
   ]
  },
  {
   "cell_type": "code",
   "execution_count": 68,
   "id": "0e6582e0",
   "metadata": {},
   "outputs": [
    {
     "data": {
      "image/png": "[encoded data removed]",
      "text/plain": [
       "<Figure size 432x288 with 1 Axes>"
      ]
     },
     "metadata": {
      "needs_background": "light"
     },
     "output_type": "display_data"
    }
   ],
   "source": [
    "from gurobipy import *\n",
    "model = Model()\n",
    "v0 = model.addVar()\n",
    "v1 = model.addVar()\n",
    "model.update()\n",
    "model.addConstr(v0 - v1 <= 3)\n",
    "model.addConstr(v0 + v1 <= 3)\n",
    "model.addConstr(-0.25*v0 + v1 <= 3)\n",
    "model.setObjective(v1, GRB.MAXIMIZE)\n",
    "model.params.outputflag = 0\n",
    "model.optimize()\n",
    "\n",
    "import matplotlib.pyplot as plt\n",
    "\n",
    "plt.plot([5,0], [0,5])\n",
    "plt.plot([0,0], [5,0])\n",
    "plt.plot([5,0], [0,0])\n",
    "plt.plot([5,0], [0,3])\n",
    "plt.plot([v0.x], [v1.x],'ro')\n",
    "plt.show()"
   ]
  },
  {
   "cell_type": "code",
   "execution_count": null,
   "id": "a905439f",
   "metadata": {},
   "outputs": [],
   "source": []
  }
 ],
 "metadata": {
  "kernelspec": {
   "display_name": "Python 3",
   "language": "python",
   "name": "python3"
  },
  "language_info": {
   "codemirror_mode": {
    "name": "ipython",
    "version": 3
   },
   "file_extension": ".py",
   "mimetype": "text/x-python",
   "name": "python",
   "nbconvert_exporter": "python",
   "pygments_lexer": "ipython3",
   "version": "3.6.13"
  }
 },
 "nbformat": 4,
 "nbformat_minor": 5
}
